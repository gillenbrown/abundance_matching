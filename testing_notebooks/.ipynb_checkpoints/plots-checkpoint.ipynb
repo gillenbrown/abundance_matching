{
 "cells": [
  {
   "cell_type": "code",
   "execution_count": null,
   "metadata": {
    "collapsed": true
   },
   "outputs": [],
   "source": [
    "%matplotlib inline\n",
    "import betterplotlib as bpl\n",
    "import abundance_matching\n",
    "\n",
    "bpl.presentation_style()"
   ]
  },
  {
   "cell_type": "code",
   "execution_count": null,
   "metadata": {
    "scrolled": true
   },
   "outputs": [],
   "source": [
    "beh = abundance_matching.Behroozi13()\n",
    "u_m = abundance_matching.UniverseMachine()"
   ]
  },
  {
   "cell_type": "code",
   "execution_count": null,
   "metadata": {},
   "outputs": [],
   "source": [
    "fig, ax = bpl.subplots()\n",
    "\n",
    "ax.fill_between(beh.sfh_z, \n",
    "                beh.sfh_low_bound.to(\"Msun/yr\").value, \n",
    "                beh.sfh_up_bound.to(\"Msun/yr\").value, \n",
    "                alpha=0.5, zorder=1, label=\"Behroozi 13\")\n",
    "ax.fill_between(u_m.z, \n",
    "                u_m.sfh_low_bound_all.to(\"Msun/yr\").value, \n",
    "                u_m.sfh_up_bound_all.to(\"Msun/yr\").value, \n",
    "                alpha=0.5, zorder=1, label=\"Universe Machine (All)\")\n",
    "ax.fill_between(u_m.z, \n",
    "                u_m.sfh_low_bound_cen.to(\"Msun/yr\").value, \n",
    "                u_m.sfh_up_bound_cen.to(\"Msun/yr\").value, \n",
    "                alpha=0.5, zorder=1, label=\"Universe Machine (Centrals)\")\n",
    "\n",
    "ax.legend()\n",
    "ax.set_yscale(\"log\")\n",
    "ax.set_xscale(\"log\")\n",
    "ax.set_limits(0.9, 10, 0.01, 100)\n",
    "ax.add_labels(\"z\", \"SFR  [$M_\\odot$/yr]\")\n",
    "\n",
    "ticks = [1, 2, 3, 4, 5, 6, 7, 8, 9, 10]\n",
    "ax.set_xticks(ticks)\n",
    "ax.set_xticklabels([str(item) for item in ticks])\n",
    "fig.savefig(\"sfh_comparison.png\")"
   ]
  },
  {
   "cell_type": "code",
   "execution_count": null,
   "metadata": {},
   "outputs": [],
   "source": [
    "fig, ax = bpl.subplots()\n",
    "ax.fill_between(beh.m_star_ages.to(\"Myr\"), \n",
    "                beh.m_star_up_bound.to(\"Msun\"), \n",
    "                beh.m_star_low_bound.to(\"Msun\"), \n",
    "                alpha=0.5, label=\"Behroozi 13\")\n",
    "\n",
    "ax.set_yscale(\"log\")\n",
    "ax.set_limits(0, 7000, 10**7, 3E10)\n",
    "ax.add_labels(\"Time [Myr]\", \"Stellar Mass [$M_\\odot$]\")\n",
    "ax.legend(loc=4)"
   ]
  },
  {
   "cell_type": "code",
   "execution_count": null,
   "metadata": {
    "collapsed": true
   },
   "outputs": [],
   "source": []
  }
 ],
 "metadata": {
  "kernelspec": {
   "display_name": "Python [conda env:general]",
   "language": "python",
   "name": "conda-env-general-py"
  },
  "language_info": {
   "codemirror_mode": {
    "name": "ipython",
    "version": 3
   },
   "file_extension": ".py",
   "mimetype": "text/x-python",
   "name": "python",
   "nbconvert_exporter": "python",
   "pygments_lexer": "ipython3",
   "version": "3.5.3"
  }
 },
 "nbformat": 4,
 "nbformat_minor": 2
}
