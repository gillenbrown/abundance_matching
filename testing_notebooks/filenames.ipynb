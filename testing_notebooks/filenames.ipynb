{
 "cells": [
  {
   "cell_type": "markdown",
   "metadata": {},
   "source": [
    "I want to compare the redshift zero output of one to the redshift $z$ output of that same halo but at earlier times, to see if that's an accurate comparison."
   ]
  },
  {
   "cell_type": "code",
   "execution_count": 1,
   "metadata": {},
   "outputs": [],
   "source": [
    "%matplotlib inline\n",
    "import numpy as np\n",
    "from astropy import cosmology\n",
    "import astropy.units as u\n",
    "import numpy as np\n",
    "import os\n",
    "from scipy import integrate\n",
    "\n",
    "import betterplotlib as bpl\n",
    "\n",
    "bpl.presentation_style()"
   ]
  },
  {
   "cell_type": "code",
   "execution_count": 2,
   "metadata": {},
   "outputs": [],
   "source": [
    "def a_to_z(a):\n",
    "    return (1.0 / a) - 1.0\n",
    "\n",
    "def z_to_a(z):\n",
    "    return 1.0 / (1.0 + z)\n",
    "\n",
    "def z_to_age(z):\n",
    "    ages = [cosmology.Planck15.age(z_i).to(\"Myr\") for z_i in z]\n",
    "    return u.Quantity(ages)"
   ]
  },
  {
   "cell_type": "code",
   "execution_count": 3,
   "metadata": {},
   "outputs": [],
   "source": [
    "class UniverseMachine(object):\n",
    "    def __init__(self, file):\n",
    "        self.read_sfh(file)\n",
    "        \n",
    "    def parse_file(self, file):\n",
    "        home_dir = \"~/code/abundance_matching/abundance_matching/data/universe_machine/data/\"\n",
    "        return home_dir + file\n",
    "\n",
    "    def read_sfh(self, file):\n",
    "        with open(self.parse_file(file), \"r\") as in_file:\n",
    "            a = []\n",
    "            sfh_all, err_up_all, err_down_all = [], [], []\n",
    "            sfh_cen, err_up_cen, err_down_cen = [], [], []\n",
    "            sfh_sat, err_up_sat, err_down_sat = [], [], []\n",
    "\n",
    "            for line in in_file:\n",
    "                if line.startswith(\"#\"):\n",
    "                    continue\n",
    "                split_line = line.split()\n",
    "\n",
    "                a.append(float(split_line[0]))\n",
    "\n",
    "                sfh_all.append(float(split_line[1]))\n",
    "                err_up_all.append(float(split_line[2]))\n",
    "                err_down_all.append(float(split_line[3]))\n",
    "\n",
    "                sfh_cen.append(float(split_line[10]))\n",
    "                err_up_cen.append(float(split_line[11]))\n",
    "                err_down_cen.append(float(split_line[12]))\n",
    "\n",
    "                sfh_sat.append(float(split_line[13]))\n",
    "                err_up_sat.append(float(split_line[14]))\n",
    "                err_down_sat.append(float(split_line[15]))\n",
    "\n",
    "        self.sfh_a = np.array(a)\n",
    "        self.sfh_z = a_to_z(self.sfh_a)\n",
    "        self.ages = z_to_age(self.sfh_z)\n",
    "\n",
    "        self.sfh_all = u.Quantity(sfh_all, \"Msun/year\")\n",
    "        self.sfh_err_up_all = u.Quantity(err_up_all, \"Msun/year\")\n",
    "        self.sfh_err_down_all = u.Quantity(err_down_all, \"Msun/year\")\n",
    "        self.sfh_up_bound_all = self.sfh_all + self.sfh_err_up_all\n",
    "        self.sfh_low_bound_all = self.sfh_all - self.sfh_err_down_all\n",
    "\n",
    "        self.sfh_cen = u.Quantity(sfh_cen, \"Msun/year\")\n",
    "        self.sfh_err_up_cen = u.Quantity(err_up_cen, \"Msun/year\")\n",
    "        self.sfh_err_down_cen = u.Quantity(err_down_cen, \"Msun/year\")\n",
    "        self.sfh_up_bound_cen = self.sfh_cen + self.sfh_err_up_cen\n",
    "        self.sfh_low_bound_cen = self.sfh_cen - self.sfh_err_down_cen\n",
    "\n",
    "        self.sfh_sat = u.Quantity(sfh_sat, \"Msun/year\")\n",
    "        self.sfh_err_up_sat = u.Quantity(err_up_sat, \"Msun/year\")\n",
    "        self.sfh_err_down_sat = u.Quantity(err_down_sat, \"Msun/year\")\n",
    "        self.sfh_up_bound_sat = self.sfh_sat + self.sfh_err_up_sat\n",
    "        self.sfh_low_bound_sat = self.sfh_sat - self.sfh_err_down_sat"
   ]
  },
  {
   "cell_type": "code",
   "execution_count": 4,
   "metadata": {},
   "outputs": [
    {
     "ename": "FileNotFoundError",
     "evalue": "[Errno 2] No such file or directory: '~/code/abundance_matching/abundance_matching/data/universe_machine/data/sfhs/sfh_hm12.00_a1.002310.dat'",
     "output_type": "error",
     "traceback": [
      "\u001b[0;31m---------------------------------------------------------------------------\u001b[0m",
      "\u001b[0;31mFileNotFoundError\u001b[0m                         Traceback (most recent call last)",
      "\u001b[0;32m<ipython-input-4-3d3f8510643e>\u001b[0m in \u001b[0;36m<module>\u001b[0;34m()\u001b[0m\n\u001b[0;32m----> 1\u001b[0;31m \u001b[0mm12_z0\u001b[0m \u001b[0;34m=\u001b[0m \u001b[0mUniverseMachine\u001b[0m\u001b[0;34m(\u001b[0m\u001b[0;34m\"sfhs/sfh_hm12.00_a1.002310.dat\"\u001b[0m\u001b[0;34m)\u001b[0m\u001b[0;34m\u001b[0m\u001b[0m\n\u001b[0m\u001b[1;32m      2\u001b[0m \u001b[0mm12_z1\u001b[0m \u001b[0;34m=\u001b[0m \u001b[0mUniverseMachine\u001b[0m\u001b[0;34m(\u001b[0m\u001b[0;34m\"sfhs/sfh_hm12.00_a0.501122.dat\"\u001b[0m\u001b[0;34m)\u001b[0m\u001b[0;34m\u001b[0m\u001b[0m\n\u001b[1;32m      3\u001b[0m \u001b[0mm1175_z1\u001b[0m \u001b[0;34m=\u001b[0m \u001b[0mUniverseMachine\u001b[0m\u001b[0;34m(\u001b[0m\u001b[0;34m\"sfhs/sfh_hm11.75_a0.501122.dat\"\u001b[0m\u001b[0;34m)\u001b[0m\u001b[0;34m\u001b[0m\u001b[0m\n",
      "\u001b[0;32m<ipython-input-3-bc4cc6a26e3b>\u001b[0m in \u001b[0;36m__init__\u001b[0;34m(self, file)\u001b[0m\n\u001b[1;32m      1\u001b[0m \u001b[0;32mclass\u001b[0m \u001b[0mUniverseMachine\u001b[0m\u001b[0;34m(\u001b[0m\u001b[0mobject\u001b[0m\u001b[0;34m)\u001b[0m\u001b[0;34m:\u001b[0m\u001b[0;34m\u001b[0m\u001b[0m\n\u001b[1;32m      2\u001b[0m     \u001b[0;32mdef\u001b[0m \u001b[0m__init__\u001b[0m\u001b[0;34m(\u001b[0m\u001b[0mself\u001b[0m\u001b[0;34m,\u001b[0m \u001b[0mfile\u001b[0m\u001b[0;34m)\u001b[0m\u001b[0;34m:\u001b[0m\u001b[0;34m\u001b[0m\u001b[0m\n\u001b[0;32m----> 3\u001b[0;31m         \u001b[0mself\u001b[0m\u001b[0;34m.\u001b[0m\u001b[0mread_sfh\u001b[0m\u001b[0;34m(\u001b[0m\u001b[0mfile\u001b[0m\u001b[0;34m)\u001b[0m\u001b[0;34m\u001b[0m\u001b[0m\n\u001b[0m\u001b[1;32m      4\u001b[0m \u001b[0;34m\u001b[0m\u001b[0m\n\u001b[1;32m      5\u001b[0m     \u001b[0;32mdef\u001b[0m \u001b[0mparse_file\u001b[0m\u001b[0;34m(\u001b[0m\u001b[0mself\u001b[0m\u001b[0;34m,\u001b[0m \u001b[0mfile\u001b[0m\u001b[0;34m)\u001b[0m\u001b[0;34m:\u001b[0m\u001b[0;34m\u001b[0m\u001b[0m\n",
      "\u001b[0;32m<ipython-input-3-bc4cc6a26e3b>\u001b[0m in \u001b[0;36mread_sfh\u001b[0;34m(self, file)\u001b[0m\n\u001b[1;32m      8\u001b[0m \u001b[0;34m\u001b[0m\u001b[0m\n\u001b[1;32m      9\u001b[0m     \u001b[0;32mdef\u001b[0m \u001b[0mread_sfh\u001b[0m\u001b[0;34m(\u001b[0m\u001b[0mself\u001b[0m\u001b[0;34m,\u001b[0m \u001b[0mfile\u001b[0m\u001b[0;34m)\u001b[0m\u001b[0;34m:\u001b[0m\u001b[0;34m\u001b[0m\u001b[0m\n\u001b[0;32m---> 10\u001b[0;31m         \u001b[0;32mwith\u001b[0m \u001b[0mopen\u001b[0m\u001b[0;34m(\u001b[0m\u001b[0mself\u001b[0m\u001b[0;34m.\u001b[0m\u001b[0mparse_file\u001b[0m\u001b[0;34m(\u001b[0m\u001b[0mfile\u001b[0m\u001b[0;34m)\u001b[0m\u001b[0;34m,\u001b[0m \u001b[0;34m\"r\"\u001b[0m\u001b[0;34m)\u001b[0m \u001b[0;32mas\u001b[0m \u001b[0min_file\u001b[0m\u001b[0;34m:\u001b[0m\u001b[0;34m\u001b[0m\u001b[0m\n\u001b[0m\u001b[1;32m     11\u001b[0m             \u001b[0ma\u001b[0m \u001b[0;34m=\u001b[0m \u001b[0;34m[\u001b[0m\u001b[0;34m]\u001b[0m\u001b[0;34m\u001b[0m\u001b[0m\n\u001b[1;32m     12\u001b[0m             \u001b[0msfh_all\u001b[0m\u001b[0;34m,\u001b[0m \u001b[0merr_up_all\u001b[0m\u001b[0;34m,\u001b[0m \u001b[0merr_down_all\u001b[0m \u001b[0;34m=\u001b[0m \u001b[0;34m[\u001b[0m\u001b[0;34m]\u001b[0m\u001b[0;34m,\u001b[0m \u001b[0;34m[\u001b[0m\u001b[0;34m]\u001b[0m\u001b[0;34m,\u001b[0m \u001b[0;34m[\u001b[0m\u001b[0;34m]\u001b[0m\u001b[0;34m\u001b[0m\u001b[0m\n",
      "\u001b[0;31mFileNotFoundError\u001b[0m: [Errno 2] No such file or directory: '~/code/abundance_matching/abundance_matching/data/universe_machine/data/sfhs/sfh_hm12.00_a1.002310.dat'"
     ]
    }
   ],
   "source": [
    "m12_z0 = UniverseMachine(\"sfhs/sfh_hm12.00_a1.002310.dat\")\n",
    "m12_z1 = UniverseMachine(\"sfhs/sfh_hm12.00_a0.501122.dat\")\n",
    "m1175_z1 = UniverseMachine(\"sfhs/sfh_hm11.75_a0.501122.dat\")"
   ]
  },
  {
   "cell_type": "code",
   "execution_count": null,
   "metadata": {},
   "outputs": [],
   "source": [
    "fig, ax = bpl.subplots()\n",
    "\n",
    "ax.fill_between(m12_z0.sfh_z, \n",
    "                m12_z0.sfh_low_bound_all.to(\"Msun/yr\").value, \n",
    "                m12_z0.sfh_up_bound_all.to(\"Msun/yr\").value, \n",
    "                alpha=0.5, zorder=1, label=\"M12_z0\")\n",
    "ax.fill_between(m12_z1.sfh_z, \n",
    "                m12_z1.sfh_low_bound_cen.to(\"Msun/yr\").value, \n",
    "                m12_z1.sfh_up_bound_cen.to(\"Msun/yr\").value, \n",
    "                alpha=0.5, zorder=1, label=\"M12_z1\")\n",
    "ax.fill_between(m1175_z1.sfh_z, \n",
    "                m1175_z1.sfh_low_bound_cen.to(\"Msun/yr\").value, \n",
    "                m1175_z1.sfh_up_bound_cen.to(\"Msun/yr\").value, \n",
    "                alpha=0.5, zorder=1, label=\"M11.75_z1\")\n",
    "\n",
    "ax.legend()\n",
    "ax.set_yscale(\"log\")\n",
    "ax.set_xscale(\"log\")\n",
    "ax.set_limits(0.1, 20, 0.001, 100)\n",
    "ax.add_labels(\"z\", \"SFR  [$M_\\odot$/yr]\")\n",
    "\n",
    "# ticks = [1, 2, 3, 4, 5, 6, 7, 8, 9, 10]\n",
    "# ax.set_xticks(ticks)\n",
    "# ax.set_xticklabels([str(item) for item in ticks]);\n",
    "# fig.savefig(\"sfh_comparison.png\")"
   ]
  },
  {
   "cell_type": "markdown",
   "metadata": {},
   "source": [
    "Try the same exercise with stellar mass"
   ]
  },
  {
   "cell_type": "code",
   "execution_count": null,
   "metadata": {},
   "outputs": [],
   "source": [
    "ms1050_z0 = UniverseMachine(\"sfhs/sfh_sm10.50_a1.002310.dat\")\n",
    "ms1050_z1 = UniverseMachine(\"sfhs/sfh_sm10.50_a0.501122.dat\")\n",
    "ms1010_z1 = UniverseMachine(\"sfhs/sfh_sm10.10_a0.501122.dat\")"
   ]
  },
  {
   "cell_type": "code",
   "execution_count": null,
   "metadata": {},
   "outputs": [],
   "source": [
    "fig, ax = bpl.subplots()\n",
    "\n",
    "ax.fill_between(ms1050_z0.sfh_z, \n",
    "                ms1050_z0.sfh_low_bound_all.to(\"Msun/yr\").value, \n",
    "                ms1050_z0.sfh_up_bound_all.to(\"Msun/yr\").value, \n",
    "                alpha=0.5, zorder=1, label=\"ms1050_z0\")\n",
    "ax.fill_between(ms1050_z1.sfh_z, \n",
    "                ms1050_z1.sfh_low_bound_cen.to(\"Msun/yr\").value, \n",
    "                ms1050_z1.sfh_up_bound_cen.to(\"Msun/yr\").value, \n",
    "                alpha=0.5, zorder=1, label=\"ms1050_z1\")\n",
    "ax.fill_between(ms1010_z1.sfh_z, \n",
    "                ms1010_z1.sfh_low_bound_cen.to(\"Msun/yr\").value, \n",
    "                ms1010_z1.sfh_up_bound_cen.to(\"Msun/yr\").value, \n",
    "                alpha=0.5, zorder=1, label=\"ms1010_z1\")\n",
    "\n",
    "ax.legend()\n",
    "ax.set_yscale(\"log\")\n",
    "ax.set_xscale(\"log\")\n",
    "ax.set_limits(0.1, 20, 0.001, 100)\n",
    "ax.add_labels(\"z\", \"SFR  [$M_\\odot$/yr]\")\n",
    "\n",
    "# ticks = [1, 2, 3, 4, 5, 6, 7, 8, 9, 10]\n",
    "# ax.set_xticks(ticks)\n",
    "# ax.set_xticklabels([str(item) for item in ticks]);\n",
    "# fig.savefig(\"sfh_comparison.png\")"
   ]
  },
  {
   "cell_type": "markdown",
   "metadata": {},
   "source": [
    "# So in conclusion, the masses in the files are the masses at that scale factor"
   ]
  },
  {
   "cell_type": "code",
   "execution_count": null,
   "metadata": {},
   "outputs": [],
   "source": []
  }
 ],
 "metadata": {
  "kernelspec": {
   "display_name": "Python 3",
   "language": "python",
   "name": "python3"
  },
  "language_info": {
   "codemirror_mode": {
    "name": "ipython",
    "version": 3
   },
   "file_extension": ".py",
   "mimetype": "text/x-python",
   "name": "python",
   "nbconvert_exporter": "python",
   "pygments_lexer": "ipython3",
   "version": "3.5.6"
  }
 },
 "nbformat": 4,
 "nbformat_minor": 2
}
